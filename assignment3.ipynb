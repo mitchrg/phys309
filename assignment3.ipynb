{
  "cells": [
    {
      "cell_type": "markdown",
      "id": "33a44e42",
      "metadata": {
        "id": "33a44e42"
      },
      "source": [
        "# Assignment 3"
      ]
    },
    {
      "cell_type": "code",
      "execution_count": 1,
      "id": "b20d4fa6",
      "metadata": {
        "id": "b20d4fa6"
      },
      "outputs": [],
      "source": [
        "import numpy as np\n",
        "import matplotlib.pyplot as plt\n",
        "from scipy import constants\n",
        "\n",
        "plt.rcParams.update({\"font.size\":16, \"axes.labelsize\":16, \"font.family\":\"sans-serif\", \n",
        "                     \"font.sans-serif\":\"Arial\"})"
      ]
    },
    {
      "cell_type": "markdown",
      "id": "48e3e861",
      "metadata": {
        "id": "48e3e861"
      },
      "source": [
        "<ol>\n",
        "    <li>Recall the velocity addition example from class: Frank is on a space station, Mary is in a spacecraft moving away from the space station in the +x direction, and she is firing a proton gun at asteroids that are in the spacecraft's path.\n",
        "        <ol>\n",
        "            <li>Assume the protons leave the proton gun with speed 0.99c in the +x direction. Plot the proton speed measured by <em>Frank</em> as a function of spacecraft speed relative to the space station.</li>\n",
        "            <li>Now suppose the protons leave the gun in a \"cone\" shape rather than straight along the +x axis, so that their velocity vectors have y and z components. The angle of the proton code is $15^{\\circ}$, and their launch speed is still 0.99c. Plot Frank's measurement of the y-component of the proton velocity at the edge of the cone, as a function of spacecraft speed.</li>\n",
        "        </ol>\n",
        "    </li>\n",
        "</ol>"
      ]
    },
    {
      "cell_type": "code",
      "execution_count": 9,
      "id": "a7bf2387",
      "metadata": {
        "colab": {
          "base_uri": "https://localhost:8080/",
          "height": 321
        },
        "id": "a7bf2387",
        "outputId": "c1e3a78e-f7b4-4a17-8b6c-903ac6cb7eb6"
      },
      "outputs": [
        {
          "output_type": "execute_result",
          "data": {
            "text/plain": [
              "[<matplotlib.lines.Line2D at 0x7f26708df8e0>]"
            ]
          },
          "metadata": {},
          "execution_count": 9
        },
        {
          "output_type": "display_data",
          "data": {
            "text/plain": [
              "<Figure size 432x288 with 1 Axes>"
            ],
            "image/png": "[encoded data removed]"
          },
          "metadata": {
            "needs_background": "light"
          }
        }
      ],
      "source": [
        "c = constants.c\n",
        "u_prime = .99*c\n",
        "v = np.linspace(0,1,1000)\n",
        "def inverse_trans(u_prime,v):\n",
        "  v_frank = (u_prime + v) / (1+(u_prime*v)/(c**2))\n",
        "  return v_frank\n",
        "plt.plot(v*c,inverse_trans(u_prime,v*c))"
      ]
    },
    {
      "cell_type": "code",
      "source": [
        "gamma  = 1 / np.sqrt(1- (v**2 / c**2))\n",
        "def inverse_y(u_prime,v):\n",
        "  vy_frank = u_prime*np.sin(15) / (gamma *(1+(v/c**2))*u_prime*np.cos(15))\n",
        "  return vy_frank \n",
        "plt.plot(v*c,inverse_y(u_prime,v*c))"
      ],
      "metadata": {
        "colab": {
          "base_uri": "https://localhost:8080/",
          "height": 321
        },
        "id": "77Ez4st20yGL",
        "outputId": "3e28f1cc-c0a8-4bac-f12e-62d5a2b54b2a"
      },
      "id": "77Ez4st20yGL",
      "execution_count": 19,
      "outputs": [
        {
          "output_type": "execute_result",
          "data": {
            "text/plain": [
              "[<matplotlib.lines.Line2D at 0x7f267058d730>]"
            ]
          },
          "metadata": {},
          "execution_count": 19
        },
        {
          "output_type": "display_data",
          "data": {
            "text/plain": [
              "<Figure size 432x288 with 1 Axes>"
            ],
            "image/png": "[encoded data removed]"
          },
          "metadata": {
            "needs_background": "light"
          }
        }
      ]
    },
    {
      "cell_type": "markdown",
      "id": "88a17359",
      "metadata": {
        "id": "88a17359"
      },
      "source": [
        "<ol start=2>\n",
        "    <li>Make a 2-d plot of spacetime with $x$ on the horizontal axis and $ct$ on the vertical axis.\n",
        "    <ol>\n",
        "        <li>Imagine two flashbulbs positioned in the Earth's approximate rest frame with locations $x = 0$ km and $x = 300000$ km (slightly less than the moon's distance from Earth). Both bulbs flash at $t = 0$. Represent the flashes with points on your spacetime plot. Put in world lines representing travel of the light from each flash.</li>\n",
        "        <li>Suppose the James Webb Space Telescope is at rest at $x = 150000$ km. Mark it on the plot with the symbol of your choice, then plot its world line.</li>\n",
        "        <li>Aliens are sending a reconnaissance microprobe through the solar system at high speed. At $t = 0$, the probe is lurking at $x = 500000$ km. In the (approximate) rest frame of observers on Earth, the microprobe moves at speed $0.1c$ in the -x direction. Mark the probe's position at $t = 0$ and plot its world line.</li>\n",
        "        </ol></li>\n",
        "</ol>\n",
        "\n",
        "Based only on your plot, would you say the flashes were simultaneous the point of view of the James Webb Space Telescope? What about from the point of view of the microprobe?"
      ]
    },
    {
      "cell_type": "code",
      "execution_count": null,
      "id": "9c39ee9f",
      "metadata": {
        "id": "9c39ee9f"
      },
      "outputs": [],
      "source": [
        "# 1 and 2\n",
        "np.linspace(0,1,100)\n",
        "plt.plot()"
      ]
    }
  ],
  "metadata": {
    "kernelspec": {
      "display_name": "Python 3",
      "language": "python",
      "name": "python3"
    },
    "language_info": {
      "codemirror_mode": {
        "name": "ipython",
        "version": 3
      },
      "file_extension": ".py",
      "mimetype": "text/x-python",
      "name": "python",
      "nbconvert_exporter": "python",
      "pygments_lexer": "ipython3",
      "version": "3.8.8"
    },
    "colab": {
      "provenance": []
    }
  },
  "nbformat": 4,
  "nbformat_minor": 5
}